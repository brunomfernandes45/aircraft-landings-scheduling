{
 "cells": [
  {
   "cell_type": "code",
   "execution_count": 1,
   "metadata": {},
   "outputs": [],
   "source": [
    "import ALS \n"
   ]
  },
  {
   "cell_type": "code",
   "execution_count": 2,
   "metadata": {},
   "outputs": [
    {
     "name": "stdout",
     "output_type": "stream",
     "text": [
      "---------- Reading data from airland8.txt ----------\n",
      "\n",
      "Number of planes: 50 \n",
      "\n",
      "Number of planes: 50\n",
      "\n",
      "Plane data:\n",
      "Plane 1: {'appearance_time': 0, 'earliest_landing_time': 75, 'target_landing_time': 82, 'latest_landing_time': 486, 'penalty_early': 30.0, 'penalty_late': 30.0}\n",
      "Plane 2: {'appearance_time': 82, 'earliest_landing_time': 157, 'target_landing_time': 197, 'latest_landing_time': 628, 'penalty_early': 10.0, 'penalty_late': 10.0}\n",
      "Plane 3: {'appearance_time': 59, 'earliest_landing_time': 134, 'target_landing_time': 160, 'latest_landing_time': 561, 'penalty_early': 10.0, 'penalty_late': 10.0}\n",
      "Plane 4: {'appearance_time': 28, 'earliest_landing_time': 103, 'target_landing_time': 117, 'latest_landing_time': 565, 'penalty_early': 30.0, 'penalty_late': 30.0}\n",
      "Plane 5: {'appearance_time': 126, 'earliest_landing_time': 201, 'target_landing_time': 261, 'latest_landing_time': 735, 'penalty_early': 10.0, 'penalty_late': 10.0}\n",
      "Plane 6: {'appearance_time': 20, 'earliest_landing_time': 95, 'target_landing_time': 106, 'latest_landing_time': 524, 'penalty_early': 30.0, 'penalty_late': 30.0}\n",
      "Plane 7: {'appearance_time': 110, 'earliest_landing_time': 185, 'target_landing_time': 229, 'latest_landing_time': 664, 'penalty_early': 10.0, 'penalty_late': 10.0}\n",
      "Plane 8: {'appearance_time': 23, 'earliest_landing_time': 98, 'target_landing_time': 108, 'latest_landing_time': 523, 'penalty_early': 30.0, 'penalty_late': 30.0}\n",
      "Plane 9: {'appearance_time': 42, 'earliest_landing_time': 117, 'target_landing_time': 132, 'latest_landing_time': 578, 'penalty_early': 30.0, 'penalty_late': 30.0}\n",
      "Plane 10: {'appearance_time': 42, 'earliest_landing_time': 117, 'target_landing_time': 130, 'latest_landing_time': 569, 'penalty_early': 30.0, 'penalty_late': 30.0}\n",
      "Plane 11: {'appearance_time': 57, 'earliest_landing_time': 132, 'target_landing_time': 149, 'latest_landing_time': 615, 'penalty_early': 30.0, 'penalty_late': 30.0}\n",
      "Plane 12: {'appearance_time': 39, 'earliest_landing_time': 114, 'target_landing_time': 126, 'latest_landing_time': 551, 'penalty_early': 30.0, 'penalty_late': 30.0}\n",
      "Plane 13: {'appearance_time': 186, 'earliest_landing_time': 261, 'target_landing_time': 336, 'latest_landing_time': 834, 'penalty_early': 10.0, 'penalty_late': 10.0}\n",
      "Plane 14: {'appearance_time': 175, 'earliest_landing_time': 250, 'target_landing_time': 316, 'latest_landing_time': 790, 'penalty_early': 10.0, 'penalty_late': 10.0}\n",
      "Plane 15: {'appearance_time': 139, 'earliest_landing_time': 214, 'target_landing_time': 258, 'latest_landing_time': 688, 'penalty_early': 10.0, 'penalty_late': 10.0}\n",
      "Plane 16: {'appearance_time': 235, 'earliest_landing_time': 310, 'target_landing_time': 409, 'latest_landing_time': 967, 'penalty_early': 10.0, 'penalty_late': 10.0}\n",
      "Plane 17: {'appearance_time': 194, 'earliest_landing_time': 269, 'target_landing_time': 338, 'latest_landing_time': 818, 'penalty_early': 10.0, 'penalty_late': 10.0}\n",
      "Plane 18: {'appearance_time': 162, 'earliest_landing_time': 237, 'target_landing_time': 287, 'latest_landing_time': 726, 'penalty_early': 10.0, 'penalty_late': 10.0}\n",
      "Plane 19: {'appearance_time': 69, 'earliest_landing_time': 144, 'target_landing_time': 160, 'latest_landing_time': 607, 'penalty_early': 30.0, 'penalty_late': 30.0}\n",
      "Plane 20: {'appearance_time': 76, 'earliest_landing_time': 151, 'target_landing_time': 169, 'latest_landing_time': 624, 'penalty_early': 30.0, 'penalty_late': 30.0}\n",
      "Plane 21: {'appearance_time': 504, 'earliest_landing_time': 579, 'target_landing_time': 628, 'latest_landing_time': 866, 'penalty_early': 15.0, 'penalty_late': 15.0}\n",
      "Plane 22: {'appearance_time': 257, 'earliest_landing_time': 332, 'target_landing_time': 425, 'latest_landing_time': 799, 'penalty_early': 30.0, 'penalty_late': 30.0}\n",
      "Plane 23: {'appearance_time': 150, 'earliest_landing_time': 225, 'target_landing_time': 333, 'latest_landing_time': 712, 'penalty_early': 25.0, 'penalty_late': 25.0}\n",
      "Plane 24: {'appearance_time': 101, 'earliest_landing_time': 176, 'target_landing_time': 269, 'latest_landing_time': 610, 'penalty_early': 10.0, 'penalty_late': 10.0}\n",
      "Plane 25: {'appearance_time': 203, 'earliest_landing_time': 278, 'target_landing_time': 398, 'latest_landing_time': 721, 'penalty_early': 15.0, 'penalty_late': 15.0}\n",
      "Plane 26: {'appearance_time': 220, 'earliest_landing_time': 295, 'target_landing_time': 378, 'latest_landing_time': 781, 'penalty_early': 30.0, 'penalty_late': 30.0}\n",
      "Plane 27: {'appearance_time': 250, 'earliest_landing_time': 325, 'target_landing_time': 426, 'latest_landing_time': 954, 'penalty_early': 20.0, 'penalty_late': 20.0}\n",
      "Plane 28: {'appearance_time': 259, 'earliest_landing_time': 334, 'target_landing_time': 498, 'latest_landing_time': 897, 'penalty_early': 20.0, 'penalty_late': 20.0}\n",
      "Plane 29: {'appearance_time': 287, 'earliest_landing_time': 362, 'target_landing_time': 521, 'latest_landing_time': 1012, 'penalty_early': 15.0, 'penalty_late': 15.0}\n",
      "Plane 30: {'appearance_time': 421, 'earliest_landing_time': 496, 'target_landing_time': 634, 'latest_landing_time': 1023, 'penalty_early': 20.0, 'penalty_late': 20.0}\n",
      "Plane 31: {'appearance_time': 400, 'earliest_landing_time': 475, 'target_landing_time': 674, 'latest_landing_time': 976, 'penalty_early': 15.0, 'penalty_late': 15.0}\n",
      "Plane 32: {'appearance_time': 254, 'earliest_landing_time': 329, 'target_landing_time': 512, 'latest_landing_time': 863, 'penalty_early': 30.0, 'penalty_late': 30.0}\n",
      "Plane 33: {'appearance_time': 281, 'earliest_landing_time': 356, 'target_landing_time': 524, 'latest_landing_time': 963, 'penalty_early': 25.0, 'penalty_late': 25.0}\n",
      "Plane 34: {'appearance_time': 296, 'earliest_landing_time': 371, 'target_landing_time': 562, 'latest_landing_time': 872, 'penalty_early': 10.0, 'penalty_late': 10.0}\n",
      "Plane 35: {'appearance_time': 236, 'earliest_landing_time': 311, 'target_landing_time': 412, 'latest_landing_time': 896, 'penalty_early': 15.0, 'penalty_late': 15.0}\n",
      "Plane 36: {'appearance_time': 417, 'earliest_landing_time': 492, 'target_landing_time': 717, 'latest_landing_time': 1231, 'penalty_early': 30.0, 'penalty_late': 30.0}\n",
      "Plane 37: {'appearance_time': 396, 'earliest_landing_time': 471, 'target_landing_time': 564, 'latest_landing_time': 1013, 'penalty_early': 20.0, 'penalty_late': 20.0}\n",
      "Plane 38: {'appearance_time': 360, 'earliest_landing_time': 435, 'target_landing_time': 572, 'latest_landing_time': 964, 'penalty_early': 20.0, 'penalty_late': 20.0}\n",
      "Plane 39: {'appearance_time': 386, 'earliest_landing_time': 461, 'target_landing_time': 654, 'latest_landing_time': 1036, 'penalty_early': 15.0, 'penalty_late': 15.0}\n",
      "Plane 40: {'appearance_time': 416, 'earliest_landing_time': 491, 'target_landing_time': 725, 'latest_landing_time': 1098, 'penalty_early': 20.0, 'penalty_late': 20.0}\n",
      "Plane 41: {'appearance_time': 437, 'earliest_landing_time': 512, 'target_landing_time': 732, 'latest_landing_time': 1127, 'penalty_early': 15.0, 'penalty_late': 15.0}\n",
      "Plane 42: {'appearance_time': 439, 'earliest_landing_time': 514, 'target_landing_time': 763, 'latest_landing_time': 1134, 'penalty_early': 30.0, 'penalty_late': 30.0}\n",
      "Plane 43: {'appearance_time': 223, 'earliest_landing_time': 298, 'target_landing_time': 401, 'latest_landing_time': 815, 'penalty_early': 25.0, 'penalty_late': 25.0}\n",
      "Plane 44: {'appearance_time': 244, 'earliest_landing_time': 319, 'target_landing_time': 450, 'latest_landing_time': 827, 'penalty_early': 10.0, 'penalty_late': 10.0}\n",
      "Plane 45: {'appearance_time': 254, 'earliest_landing_time': 329, 'target_landing_time': 456, 'latest_landing_time': 927, 'penalty_early': 15.0, 'penalty_late': 15.0}\n",
      "Plane 46: {'appearance_time': 346, 'earliest_landing_time': 421, 'target_landing_time': 673, 'latest_landing_time': 1042, 'penalty_early': 30.0, 'penalty_late': 30.0}\n",
      "Plane 47: {'appearance_time': 289, 'earliest_landing_time': 364, 'target_landing_time': 527, 'latest_landing_time': 958, 'penalty_early': 20.0, 'penalty_late': 20.0}\n",
      "Plane 48: {'appearance_time': 307, 'earliest_landing_time': 382, 'target_landing_time': 577, 'latest_landing_time': 916, 'penalty_early': 20.0, 'penalty_late': 20.0}\n",
      "Plane 49: {'appearance_time': 302, 'earliest_landing_time': 377, 'target_landing_time': 468, 'latest_landing_time': 894, 'penalty_early': 15.0, 'penalty_late': 15.0}\n",
      "Plane 50: {'appearance_time': 136, 'earliest_landing_time': 211, 'target_landing_time': 345, 'latest_landing_time': 828, 'penalty_early': 20.0, 'penalty_late': 20.0}\n",
      "\n",
      "Separation times:\n",
      "After plane 1: [99999, 3, 8, 15, 8, 15, 3, 8, 8, 3, 3, 8, 8, 3, 3, 15, 15, 8, 8, 15, 15, 3, 8, 8, 8, 3, 3, 8, 3, 15, 15, 3, 8, 15, 15, 3, 8, 3, 15, 8, 15, 15, 3, 3, 15, 15, 3, 8, 15, 3]\n",
      "After plane 2: [3, 99999, 8, 15, 8, 15, 3, 8, 8, 3, 3, 8, 8, 3, 3, 15, 15, 8, 8, 15, 15, 3, 8, 8, 8, 3, 3, 8, 3, 15, 15, 3, 8, 15, 15, 3, 8, 3, 15, 8, 15, 15, 3, 3, 15, 15, 3, 8, 15, 3]\n",
      "After plane 3: [8, 8, 99999, 15, 8, 15, 3, 8, 8, 3, 3, 8, 8, 3, 3, 15, 15, 8, 8, 15, 15, 3, 8, 8, 8, 3, 3, 8, 3, 15, 15, 3, 8, 15, 15, 3, 8, 3, 15, 8, 15, 15, 3, 3, 15, 15, 3, 8, 15, 3]\n",
      "After plane 4: [15, 15, 15, 99999, 8, 15, 3, 8, 8, 3, 3, 8, 8, 3, 3, 15, 15, 8, 8, 15, 15, 3, 8, 8, 8, 3, 3, 8, 3, 15, 15, 3, 8, 15, 15, 3, 8, 3, 15, 8, 15, 15, 3, 3, 15, 15, 3, 8, 15, 3]\n",
      "After plane 5: [8, 8, 8, 8, 99999, 15, 3, 8, 8, 3, 3, 8, 8, 3, 3, 15, 15, 8, 8, 15, 15, 3, 8, 8, 8, 3, 3, 8, 3, 15, 15, 3, 8, 15, 15, 3, 8, 3, 15, 8, 15, 15, 3, 3, 15, 15, 3, 8, 15, 3]\n",
      "After plane 6: [15, 15, 15, 15, 15, 99999, 3, 8, 8, 3, 3, 8, 8, 3, 3, 15, 15, 8, 8, 15, 15, 3, 8, 8, 8, 3, 3, 8, 3, 15, 15, 3, 8, 15, 15, 3, 8, 3, 15, 8, 15, 15, 3, 3, 15, 15, 3, 8, 15, 3]\n",
      "After plane 7: [3, 3, 3, 3, 3, 3, 99999, 8, 8, 3, 3, 8, 8, 3, 3, 15, 15, 8, 8, 15, 15, 3, 8, 8, 8, 3, 3, 8, 3, 15, 15, 3, 8, 15, 15, 3, 8, 3, 15, 8, 15, 15, 3, 3, 15, 15, 3, 8, 15, 3]\n",
      "After plane 8: [8, 8, 8, 8, 8, 8, 8, 99999, 8, 3, 3, 8, 8, 3, 3, 15, 15, 8, 8, 15, 15, 3, 8, 8, 8, 3, 3, 8, 3, 15, 15, 3, 8, 15, 15, 3, 8, 3, 15, 8, 15, 15, 3, 3, 15, 15, 3, 8, 15, 3]\n",
      "After plane 9: [8, 8, 8, 8, 8, 8, 8, 8, 99999, 3, 3, 8, 8, 3, 3, 15, 15, 8, 8, 15, 15, 3, 8, 8, 8, 3, 3, 8, 3, 15, 15, 3, 8, 15, 15, 3, 8, 3, 15, 8, 15, 15, 3, 3, 15, 15, 3, 8, 15, 3]\n",
      "After plane 10: [3, 3, 3, 3, 3, 3, 3, 3, 3, 99999, 3, 8, 8, 3, 3, 15, 15, 8, 8, 15, 15, 3, 8, 8, 8, 3, 3, 8, 3, 15, 15, 3, 8, 15, 15, 3, 8, 3, 15, 8, 15, 15, 3, 3, 15, 15, 3, 8, 15, 3]\n",
      "After plane 11: [3, 3, 3, 3, 3, 3, 3, 3, 3, 3, 99999, 8, 8, 3, 3, 15, 15, 8, 8, 15, 15, 3, 8, 8, 8, 3, 3, 8, 3, 15, 15, 3, 8, 15, 15, 3, 8, 3, 15, 8, 15, 15, 3, 3, 15, 15, 3, 8, 15, 3]\n",
      "After plane 12: [8, 8, 8, 8, 8, 8, 8, 8, 8, 8, 8, 99999, 8, 3, 3, 15, 15, 8, 8, 15, 15, 3, 8, 8, 8, 3, 3, 8, 3, 15, 15, 3, 8, 15, 15, 3, 8, 3, 15, 8, 15, 15, 3, 3, 15, 15, 3, 8, 15, 3]\n",
      "After plane 13: [8, 8, 8, 8, 8, 8, 8, 8, 8, 8, 8, 8, 99999, 3, 3, 15, 15, 8, 8, 15, 15, 3, 8, 8, 8, 3, 3, 8, 3, 15, 15, 3, 8, 15, 15, 3, 8, 3, 15, 8, 15, 15, 3, 3, 15, 15, 3, 8, 15, 3]\n",
      "After plane 14: [3, 3, 3, 3, 3, 3, 3, 3, 3, 3, 3, 3, 3, 99999, 3, 15, 15, 8, 8, 15, 15, 3, 8, 8, 8, 3, 3, 8, 3, 15, 15, 3, 8, 15, 15, 3, 8, 3, 15, 8, 15, 15, 3, 3, 15, 15, 3, 8, 15, 3]\n",
      "After plane 15: [3, 3, 3, 3, 3, 3, 3, 3, 3, 3, 3, 3, 3, 3, 99999, 15, 15, 8, 8, 15, 15, 3, 8, 8, 8, 3, 3, 8, 3, 15, 15, 3, 8, 15, 15, 3, 8, 3, 15, 8, 15, 15, 3, 3, 15, 15, 3, 8, 15, 3]\n",
      "After plane 16: [15, 15, 15, 15, 15, 15, 15, 15, 15, 15, 15, 15, 15, 15, 15, 99999, 15, 8, 8, 15, 15, 3, 8, 8, 8, 3, 3, 8, 3, 15, 15, 3, 8, 15, 15, 3, 8, 3, 15, 8, 15, 15, 3, 3, 15, 15, 3, 8, 15, 3]\n",
      "After plane 17: [15, 15, 15, 15, 15, 15, 15, 15, 15, 15, 15, 15, 15, 15, 15, 15, 99999, 8, 8, 15, 15, 3, 8, 8, 8, 3, 3, 8, 3, 15, 15, 3, 8, 15, 15, 3, 8, 3, 15, 8, 15, 15, 3, 3, 15, 15, 3, 8, 15, 3]\n",
      "After plane 18: [8, 8, 8, 8, 8, 8, 8, 8, 8, 8, 8, 8, 8, 8, 8, 8, 8, 99999, 8, 15, 15, 3, 8, 8, 8, 3, 3, 8, 3, 15, 15, 3, 8, 15, 15, 3, 8, 3, 15, 8, 15, 15, 3, 3, 15, 15, 3, 8, 15, 3]\n",
      "After plane 19: [8, 8, 8, 8, 8, 8, 8, 8, 8, 8, 8, 8, 8, 8, 8, 8, 8, 8, 99999, 15, 15, 3, 8, 8, 8, 3, 3, 8, 3, 15, 15, 3, 8, 15, 15, 3, 8, 3, 15, 8, 15, 15, 3, 3, 15, 15, 3, 8, 15, 3]\n",
      "After plane 20: [15, 15, 15, 15, 15, 15, 15, 15, 15, 15, 15, 15, 15, 15, 15, 15, 15, 15, 15, 99999, 15, 3, 8, 8, 8, 3, 3, 8, 3, 15, 15, 3, 8, 15, 15, 3, 8, 3, 15, 8, 15, 15, 3, 3, 15, 15, 3, 8, 15, 3]\n",
      "After plane 21: [15, 15, 15, 15, 15, 15, 15, 15, 15, 15, 15, 15, 15, 15, 15, 15, 15, 15, 15, 15, 99999, 3, 8, 8, 8, 3, 3, 8, 3, 15, 15, 3, 8, 15, 15, 3, 8, 3, 15, 8, 15, 15, 3, 3, 15, 15, 3, 8, 15, 3]\n",
      "After plane 22: [3, 3, 3, 3, 3, 3, 3, 3, 3, 3, 3, 3, 3, 3, 3, 3, 3, 3, 3, 3, 3, 99999, 8, 8, 8, 3, 3, 8, 3, 15, 15, 3, 8, 15, 15, 3, 8, 3, 15, 8, 15, 15, 3, 3, 15, 15, 3, 8, 15, 3]\n",
      "After plane 23: [8, 8, 8, 8, 8, 8, 8, 8, 8, 8, 8, 8, 8, 8, 8, 8, 8, 8, 8, 8, 8, 8, 99999, 8, 8, 3, 3, 8, 3, 15, 15, 3, 8, 15, 15, 3, 8, 3, 15, 8, 15, 15, 3, 3, 15, 15, 3, 8, 15, 3]\n",
      "After plane 24: [8, 8, 8, 8, 8, 8, 8, 8, 8, 8, 8, 8, 8, 8, 8, 8, 8, 8, 8, 8, 8, 8, 8, 99999, 8, 3, 3, 8, 3, 15, 15, 3, 8, 15, 15, 3, 8, 3, 15, 8, 15, 15, 3, 3, 15, 15, 3, 8, 15, 3]\n",
      "After plane 25: [8, 8, 8, 8, 8, 8, 8, 8, 8, 8, 8, 8, 8, 8, 8, 8, 8, 8, 8, 8, 8, 8, 8, 8, 99999, 3, 3, 8, 3, 15, 15, 3, 8, 15, 15, 3, 8, 3, 15, 8, 15, 15, 3, 3, 15, 15, 3, 8, 15, 3]\n",
      "After plane 26: [3, 3, 3, 3, 3, 3, 3, 3, 3, 3, 3, 3, 3, 3, 3, 3, 3, 3, 3, 3, 3, 3, 3, 3, 3, 99999, 3, 8, 3, 15, 15, 3, 8, 15, 15, 3, 8, 3, 15, 8, 15, 15, 3, 3, 15, 15, 3, 8, 15, 3]\n",
      "After plane 27: [3, 3, 3, 3, 3, 3, 3, 3, 3, 3, 3, 3, 3, 3, 3, 3, 3, 3, 3, 3, 3, 3, 3, 3, 3, 3, 99999, 8, 3, 15, 15, 3, 8, 15, 15, 3, 8, 3, 15, 8, 15, 15, 3, 3, 15, 15, 3, 8, 15, 3]\n",
      "After plane 28: [8, 8, 8, 8, 8, 8, 8, 8, 8, 8, 8, 8, 8, 8, 8, 8, 8, 8, 8, 8, 8, 8, 8, 8, 8, 8, 8, 99999, 3, 15, 15, 3, 8, 15, 15, 3, 8, 3, 15, 8, 15, 15, 3, 3, 15, 15, 3, 8, 15, 3]\n",
      "After plane 29: [3, 3, 3, 3, 3, 3, 3, 3, 3, 3, 3, 3, 3, 3, 3, 3, 3, 3, 3, 3, 3, 3, 3, 3, 3, 3, 3, 3, 99999, 15, 15, 3, 8, 15, 15, 3, 8, 3, 15, 8, 15, 15, 3, 3, 15, 15, 3, 8, 15, 3]\n",
      "After plane 30: [15, 15, 15, 15, 15, 15, 15, 15, 15, 15, 15, 15, 15, 15, 15, 15, 15, 15, 15, 15, 15, 15, 15, 15, 15, 15, 15, 15, 15, 99999, 15, 3, 8, 15, 15, 3, 8, 3, 15, 8, 15, 15, 3, 3, 15, 15, 3, 8, 15, 3]\n",
      "After plane 31: [15, 15, 15, 15, 15, 15, 15, 15, 15, 15, 15, 15, 15, 15, 15, 15, 15, 15, 15, 15, 15, 15, 15, 15, 15, 15, 15, 15, 15, 15, 99999, 3, 8, 15, 15, 3, 8, 3, 15, 8, 15, 15, 3, 3, 15, 15, 3, 8, 15, 3]\n",
      "After plane 32: [3, 3, 3, 3, 3, 3, 3, 3, 3, 3, 3, 3, 3, 3, 3, 3, 3, 3, 3, 3, 3, 3, 3, 3, 3, 3, 3, 3, 3, 3, 3, 99999, 8, 15, 15, 3, 8, 3, 15, 8, 15, 15, 3, 3, 15, 15, 3, 8, 15, 3]\n",
      "After plane 33: [8, 8, 8, 8, 8, 8, 8, 8, 8, 8, 8, 8, 8, 8, 8, 8, 8, 8, 8, 8, 8, 8, 8, 8, 8, 8, 8, 8, 8, 8, 8, 8, 99999, 15, 15, 3, 8, 3, 15, 8, 15, 15, 3, 3, 15, 15, 3, 8, 15, 3]\n",
      "After plane 34: [15, 15, 15, 15, 15, 15, 15, 15, 15, 15, 15, 15, 15, 15, 15, 15, 15, 15, 15, 15, 15, 15, 15, 15, 15, 15, 15, 15, 15, 15, 15, 15, 15, 99999, 15, 3, 8, 3, 15, 8, 15, 15, 3, 3, 15, 15, 3, 8, 15, 3]\n",
      "After plane 35: [15, 15, 15, 15, 15, 15, 15, 15, 15, 15, 15, 15, 15, 15, 15, 15, 15, 15, 15, 15, 15, 15, 15, 15, 15, 15, 15, 15, 15, 15, 15, 15, 15, 15, 99999, 3, 8, 3, 15, 8, 15, 15, 3, 3, 15, 15, 3, 8, 15, 3]\n",
      "After plane 36: [3, 3, 3, 3, 3, 3, 3, 3, 3, 3, 3, 3, 3, 3, 3, 3, 3, 3, 3, 3, 3, 3, 3, 3, 3, 3, 3, 3, 3, 3, 3, 3, 3, 3, 3, 99999, 8, 3, 15, 8, 15, 15, 3, 3, 15, 15, 3, 8, 15, 3]\n",
      "After plane 37: [8, 8, 8, 8, 8, 8, 8, 8, 8, 8, 8, 8, 8, 8, 8, 8, 8, 8, 8, 8, 8, 8, 8, 8, 8, 8, 8, 8, 8, 8, 8, 8, 8, 8, 8, 8, 99999, 3, 15, 8, 15, 15, 3, 3, 15, 15, 3, 8, 15, 3]\n",
      "After plane 38: [3, 3, 3, 3, 3, 3, 3, 3, 3, 3, 3, 3, 3, 3, 3, 3, 3, 3, 3, 3, 3, 3, 3, 3, 3, 3, 3, 3, 3, 3, 3, 3, 3, 3, 3, 3, 3, 99999, 15, 8, 15, 15, 3, 3, 15, 15, 3, 8, 15, 3]\n",
      "After plane 39: [15, 15, 15, 15, 15, 15, 15, 15, 15, 15, 15, 15, 15, 15, 15, 15, 15, 15, 15, 15, 15, 15, 15, 15, 15, 15, 15, 15, 15, 15, 15, 15, 15, 15, 15, 15, 15, 15, 99999, 8, 15, 15, 3, 3, 15, 15, 3, 8, 15, 3]\n",
      "After plane 40: [8, 8, 8, 8, 8, 8, 8, 8, 8, 8, 8, 8, 8, 8, 8, 8, 8, 8, 8, 8, 8, 8, 8, 8, 8, 8, 8, 8, 8, 8, 8, 8, 8, 8, 8, 8, 8, 8, 8, 99999, 15, 15, 3, 3, 15, 15, 3, 8, 15, 3]\n",
      "After plane 41: [15, 15, 15, 15, 15, 15, 15, 15, 15, 15, 15, 15, 15, 15, 15, 15, 15, 15, 15, 15, 15, 15, 15, 15, 15, 15, 15, 15, 15, 15, 15, 15, 15, 15, 15, 15, 15, 15, 15, 15, 99999, 15, 3, 3, 15, 15, 3, 8, 15, 3]\n",
      "After plane 42: [15, 15, 15, 15, 15, 15, 15, 15, 15, 15, 15, 15, 15, 15, 15, 15, 15, 15, 15, 15, 15, 15, 15, 15, 15, 15, 15, 15, 15, 15, 15, 15, 15, 15, 15, 15, 15, 15, 15, 15, 15, 99999, 3, 3, 15, 15, 3, 8, 15, 3]\n",
      "After plane 43: [3, 3, 3, 3, 3, 3, 3, 3, 3, 3, 3, 3, 3, 3, 3, 3, 3, 3, 3, 3, 3, 3, 3, 3, 3, 3, 3, 3, 3, 3, 3, 3, 3, 3, 3, 3, 3, 3, 3, 3, 3, 3, 99999, 3, 15, 15, 3, 8, 15, 3]\n",
      "After plane 44: [3, 3, 3, 3, 3, 3, 3, 3, 3, 3, 3, 3, 3, 3, 3, 3, 3, 3, 3, 3, 3, 3, 3, 3, 3, 3, 3, 3, 3, 3, 3, 3, 3, 3, 3, 3, 3, 3, 3, 3, 3, 3, 3, 99999, 15, 15, 3, 8, 15, 3]\n",
      "After plane 45: [15, 15, 15, 15, 15, 15, 15, 15, 15, 15, 15, 15, 15, 15, 15, 15, 15, 15, 15, 15, 15, 15, 15, 15, 15, 15, 15, 15, 15, 15, 15, 15, 15, 15, 15, 15, 15, 15, 15, 15, 15, 15, 15, 15, 99999, 15, 3, 8, 15, 3]\n",
      "After plane 46: [15, 15, 15, 15, 15, 15, 15, 15, 15, 15, 15, 15, 15, 15, 15, 15, 15, 15, 15, 15, 15, 15, 15, 15, 15, 15, 15, 15, 15, 15, 15, 15, 15, 15, 15, 15, 15, 15, 15, 15, 15, 15, 15, 15, 15, 99999, 3, 8, 15, 3]\n",
      "After plane 47: [3, 3, 3, 3, 3, 3, 3, 3, 3, 3, 3, 3, 3, 3, 3, 3, 3, 3, 3, 3, 3, 3, 3, 3, 3, 3, 3, 3, 3, 3, 3, 3, 3, 3, 3, 3, 3, 3, 3, 3, 3, 3, 3, 3, 3, 3, 99999, 8, 15, 3]\n",
      "After plane 48: [8, 8, 8, 8, 8, 8, 8, 8, 8, 8, 8, 8, 8, 8, 8, 8, 8, 8, 8, 8, 8, 8, 8, 8, 8, 8, 8, 8, 8, 8, 8, 8, 8, 8, 8, 8, 8, 8, 8, 8, 8, 8, 8, 8, 8, 8, 8, 99999, 15, 3]\n",
      "After plane 49: [15, 15, 15, 15, 15, 15, 15, 15, 15, 15, 15, 15, 15, 15, 15, 15, 15, 15, 15, 15, 15, 15, 15, 15, 15, 15, 15, 15, 15, 15, 15, 15, 15, 15, 15, 15, 15, 15, 15, 15, 15, 15, 15, 15, 15, 15, 15, 15, 99999, 3]\n",
      "After plane 50: [3, 3, 3, 3, 3, 3, 3, 3, 3, 3, 3, 3, 3, 3, 3, 3, 3, 3, 3, 3, 3, 3, 3, 3, 3, 3, 3, 3, 3, 3, 3, 3, 3, 3, 3, 3, 3, 3, 3, 3, 3, 3, 3, 3, 3, 3, 3, 3, 3, 99999]\n"
     ]
    }
   ],
   "source": [
    "filename = \"data/airland8.txt\"\n",
    "\n",
    "num_planes, planes_data, separation_times = ALS.read_data(filename)\n",
    "\n",
    "print(\"Number of planes:\", num_planes)\n",
    "print(\"\\nPlane data:\")\n",
    "for i, plane in enumerate(planes_data):\n",
    "    print(f\"Plane {i+1}: {plane}\")\n",
    "print(\"\\nSeparation times:\")\n",
    "for i, row in enumerate(separation_times):\n",
    "    print(f\"After plane {i+1}: {row}\")\n"
   ]
  },
  {
   "cell_type": "code",
   "execution_count": 4,
   "metadata": {},
   "outputs": [
    {
     "name": "stdout",
     "output_type": "stream",
     "text": [
      "Optimal Cost: 135.0\n",
      "\n",
      "Planes that did not land on the target time:\n",
      "Plane 2: 154 | Target Time: 160 | Penalty: 60.0\n",
      "Plane 8: 133 | Target Time: 132 | Penalty: 30.0\n",
      "Plane 16: 341 | Target Time: 338 | Penalty: 30.0\n",
      "Plane 34: 411 | Target Time: 412 | Penalty: 15.0\n"
     ]
    },
    {
     "data": {
      "text/plain": [
       "(<ortools.sat.python.cp_model.CpSolver at 0x118fff7f0>, 110764032, 147148800)"
      ]
     },
     "execution_count": 4,
     "metadata": {},
     "output_type": "execute_result"
    }
   ],
   "source": [
    "ALS.solve_multiple_runways_cp(num_planes, 2, planes_data, separation_times)"
   ]
  },
  {
   "cell_type": "code",
   "execution_count": 6,
   "metadata": {},
   "outputs": [
    {
     "name": "stdout",
     "output_type": "stream",
     "text": [
      "---------- Reading data from airland8.txt ----------\n",
      "\n",
      "Number of planes: 50 \n",
      "\n",
      "Optimal Cost: 135.0\n",
      "\n",
      "Planes that did not land on the target time:\n",
      "Plane 2: 154 | Target Time: 160 | Penalty: 60.0\n",
      "Plane 8: 133 | Target Time: 132 | Penalty: 30.0\n",
      "Plane 16: 341 | Target Time: 338 | Penalty: 30.0\n",
      "Plane 34: 411 | Target Time: 412 | Penalty: 15.0\n",
      "\n",
      "============================================================\n",
      "Performance Metrics for CP\n",
      "============================================================\n",
      "-> Execution time (s): 5.493079000000001\n",
      "-> Solution Status: OPTIMAL\n",
      "-> Memory usage (MB): 4.80078125\n",
      "-> Number of Conflicts: 7248\n",
      "-> Number of Branches: 226030\n",
      "-> Best objective bound: 135.0\n",
      "============================================================\n"
     ]
    }
   ],
   "source": [
    "from ALS import solve_multiple_runways_cp\n",
    "from ALS.utils import read_data\n",
    "from ALS.performanceCP import performance_CP\n",
    "\n",
    "filename = \"data/airland8.txt\"\n",
    "\n",
    "num_planes, planes_data, separation_times = read_data(filename)\n",
    "\n",
    "solver, mem_before, mem_after = solve_multiple_runways_cp(num_planes, 2, planes_data, separation_times)\n",
    "exec_time, status, mem_usage, conflicts, branches, best_objective = performance_CP(solver, planes_data, mem_before, mem_after)\n"
   ]
  },
  {
   "cell_type": "code",
   "execution_count": 1,
   "metadata": {},
   "outputs": [
    {
     "name": "stdout",
     "output_type": "stream",
     "text": [
      "---------- Reading data from airland8.txt ----------\n",
      "\n",
      "Number of planes: 50 \n",
      "\n",
      "============================================================\n",
      "\t\t    Creating MIP solver\n",
      "============================================================ \n",
      "\n",
      "Number of decision variables created: 5150\n",
      "Number of constraints: 7742\n",
      "\n",
      "============================================================\n",
      "\t\t\tSolving MIP\n",
      "============================================================ \n",
      "\n",
      "Optimal Cost: 135.0\n",
      "\n",
      "Planes that did not land on the target time:\n",
      "Plane 2: LandingTime_2 | Target Time: 160 | Penalty: 60.0\n",
      "Plane 9: LandingTime_9 | Target Time: 130 | Penalty: 30.0\n",
      "Plane 16: LandingTime_16 | Target Time: 338 | Penalty: 30.0\n",
      "Plane 34: LandingTime_34 | Target Time: 412 | Penalty: 15.0\n",
      "\n",
      "============================================================\n",
      "Performance Metrics for MIP\n",
      "============================================================\n",
      "-> Execution time: 0.73 seconds\n",
      "-> Number of variables in the model: 5150\n",
      "-> Number of constraints in the model: 7742\n",
      "-> Total penalty: 135.0\n",
      "-> Memory usage: 22.39 MB\n",
      "============================================================\n"
     ]
    }
   ],
   "source": [
    "from ALS import solve_multiple_runways_mip\n",
    "from ALS.utils import read_data\n",
    "from ALS.performanceMIP import performance_MIP\n",
    "\n",
    "filename = \"data/airland8.txt\"\n",
    "\n",
    "num_planes, planes_data, separation_times = read_data(filename)\n",
    "\n",
    "num_runways = 2\n",
    "\n",
    "solver, variables, num_planes, mem_before, mem_after = solve_multiple_runways_mip(num_planes, num_runways, planes_data, separation_times)\n",
    "\n",
    "exec_time, num_variables, num_constraints, total_penalty, mem_usage = performance_MIP(solver, mem_before, mem_after)"
   ]
  },
  {
   "cell_type": "code",
   "execution_count": null,
   "metadata": {},
   "outputs": [],
   "source": []
  }
 ],
 "metadata": {
  "kernelspec": {
   "display_name": ".venv",
   "language": "python",
   "name": "python3"
  },
  "language_info": {
   "codemirror_mode": {
    "name": "ipython",
    "version": 3
   },
   "file_extension": ".py",
   "mimetype": "text/x-python",
   "name": "python",
   "nbconvert_exporter": "python",
   "pygments_lexer": "ipython3",
   "version": "3.10.7"
  }
 },
 "nbformat": 4,
 "nbformat_minor": 2
}
