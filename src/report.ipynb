{
 "cells": [
  {
   "cell_type": "code",
   "execution_count": 1,
   "metadata": {},
   "outputs": [],
   "source": [
    "from ALS.CP import solve_multiple_runways_cp,solve_single_runway_cp\n",
    "from ALS.MIP import solve_multiple_runways_mip\n",
    "from ALS.utils import read_data\n",
    "from ALS.performanceCP import performance_CP\n",
    "from ALS.performanceMIP import performance_MIP"
   ]
  },
  {
   "cell_type": "code",
   "execution_count": 2,
   "metadata": {},
   "outputs": [
    {
     "name": "stdout",
     "output_type": "stream",
     "text": [
      "---------- Reading data from airland8.txt ----------\n",
      "\n",
      "Number of planes: 50 \n",
      "\n"
     ]
    }
   ],
   "source": [
    "filename = \"data/airland8.txt\"\n",
    "\n",
    "num_planes, planes_data, separation_times = read_data(filename)\n",
    "\n",
    "num_runways = 2"
   ]
  },
  {
   "cell_type": "code",
   "execution_count": 3,
   "metadata": {},
   "outputs": [
    {
     "name": "stdout",
     "output_type": "stream",
     "text": [
      "---------- Creating CP model ----------\n",
      "\n",
      "Number of decision variables created: 2700\n",
      "Number of constraints: 7651\n",
      "\n",
      "---------- Solving CP ----------\n",
      "\n",
      "Optimal Cost: 135.0\n",
      "\n",
      "Planes that did not land on the target time:\n",
      "Plane 2: 154 | Target Time: 160 | Penalty: 60.0\n",
      "Plane 8: 133 | Target Time: 132 | Penalty: 30.0\n",
      "Plane 16: 341 | Target Time: 338 | Penalty: 30.0\n",
      "Plane 34: 411 | Target Time: 412 | Penalty: 15.0\n",
      "\n",
      "============================================================\n",
      "Performance Metrics for CP\n",
      "============================================================\n",
      "-> Execution time (s): 1.549171\n",
      "-> Solution Status: OPTIMAL\n",
      "-> Memory usage (MB): 163.171875\n",
      "-> Number of Conflicts: 31\n",
      "-> Number of Branches: 16508\n",
      "-> Best objective bound: 135.0\n",
      "============================================================\n"
     ]
    }
   ],
   "source": [
    "solver, mem_before, mem_after = solve_multiple_runways_cp(num_planes, num_runways, planes_data, separation_times)\n",
    "metrics_cp_multiple_runway = performance_CP(solver, planes_data, mem_before, mem_after)"
   ]
  },
  {
   "cell_type": "code",
   "execution_count": 4,
   "metadata": {},
   "outputs": [
    {
     "name": "stdout",
     "output_type": "stream",
     "text": [
      "---------- Creating CP model ----------\n",
      "\n",
      "Number of decision variables created: 1425\n",
      "Number of constraints: 5201\n",
      "\n",
      "---------- Solving CP ----------\n",
      "\n",
      "Optimal Cost: 1950.0\n",
      "\n",
      "Planes that did not land on the target time:\n",
      "Plane 2: 152 | Target Time: 160 | Penalty: 80.0\n",
      "Plane 3: 116 | Target Time: 117 | Penalty: 30.0\n",
      "Plane 5: 100 | Target Time: 106 | Penalty: 180.0\n",
      "Plane 8: 135 | Target Time: 132 | Penalty: 90.0\n",
      "Plane 9: 132 | Target Time: 130 | Penalty: 60.0\n",
      "Plane 11: 124 | Target Time: 126 | Penalty: 60.0\n",
      "Plane 12: 325 | Target Time: 336 | Penalty: 110.0\n",
      "Plane 15: 422 | Target Time: 409 | Penalty: 130.0\n",
      "Plane 16: 341 | Target Time: 338 | Penalty: 30.0\n",
      "Plane 19: 175 | Target Time: 169 | Penalty: 180.0\n",
      "Plane 20: 619 | Target Time: 628 | Penalty: 135.0\n",
      "Plane 24: 392 | Target Time: 398 | Penalty: 90.0\n",
      "Plane 26: 428 | Target Time: 426 | Penalty: 40.0\n",
      "Plane 28: 516 | Target Time: 521 | Penalty: 75.0\n",
      "Plane 30: 688 | Target Time: 674 | Penalty: 210.0\n",
      "Plane 33: 556 | Target Time: 562 | Penalty: 60.0\n",
      "Plane 34: 407 | Target Time: 412 | Penalty: 75.0\n",
      "Plane 40: 740 | Target Time: 732 | Penalty: 120.0\n",
      "Plane 43: 441 | Target Time: 450 | Penalty: 90.0\n",
      "Plane 47: 580 | Target Time: 577 | Penalty: 60.0\n",
      "Plane 48: 471 | Target Time: 468 | Penalty: 45.0\n",
      "\n",
      "============================================================\n",
      "Performance Metrics for CP\n",
      "============================================================\n",
      "-> Execution time (s): 2.7230700000000003\n",
      "-> Solution Status: OPTIMAL\n",
      "-> Memory usage (MB): 28.875\n",
      "-> Number of Conflicts: 50\n",
      "-> Number of Branches: 12888\n",
      "-> Best objective bound: 1950.0\n",
      "============================================================\n"
     ]
    }
   ],
   "source": [
    "solver, mem_before, mem_after = solve_single_runway_cp(num_planes, planes_data, separation_times)\n",
    "metrics_CP_single_runway = performance_CP(solver, planes_data, mem_before, mem_after)"
   ]
  },
  {
   "cell_type": "code",
   "execution_count": 5,
   "metadata": {},
   "outputs": [
    {
     "name": "stdout",
     "output_type": "stream",
     "text": [
      "---------- Creating MIP solver ----------\n",
      "\n",
      "Number of decision variables created: 5150\n",
      "Number of constraints: 7742\n",
      "\n",
      "---------- Solving MIP ----------\n",
      "\n",
      "Optimal Cost: 135.0\n",
      "\n",
      "Planes that did not land on the target time:\n",
      "Plane 2: 154.0 | Target Time: 160 | Penalty: 60.0\n",
      "Plane 9: 129.0 | Target Time: 130 | Penalty: 30.0\n",
      "Plane 16: 341.0 | Target Time: 338 | Penalty: 30.0\n",
      "Plane 34: 411.0 | Target Time: 412 | Penalty: 15.0\n",
      "\n",
      "============================================================\n",
      "Performance Metrics for MIP\n",
      "============================================================\n",
      "-> Execution time: 0.24 seconds\n",
      "-> Number of variables in the model: 5150\n",
      "-> Number of constraints in the model: 7742\n",
      "-> Total penalty: 135.00\n",
      "-> Memory usage: 28.88 MB\n",
      "============================================================\n"
     ]
    }
   ],
   "source": [
    "solver, variables, num_planes, memory_before, memory_after, num_runways = solve_multiple_runways_mip(num_planes, planes_data, separation_times, num_runways)\n",
    "metrics_MIP_multiple_runway = performance_MIP(solver, variables, num_planes, mem_before, mem_after, num_runways, planes_data)"
   ]
  },
  {
   "cell_type": "code",
   "execution_count": null,
   "metadata": {},
   "outputs": [],
   "source": []
  },
  {
   "cell_type": "code",
   "execution_count": null,
   "metadata": {},
   "outputs": [],
   "source": []
  },
  {
   "cell_type": "code",
   "execution_count": null,
   "metadata": {},
   "outputs": [],
   "source": []
  },
  {
   "cell_type": "code",
   "execution_count": null,
   "metadata": {},
   "outputs": [],
   "source": []
  }
 ],
 "metadata": {
  "kernelspec": {
   "display_name": "Python 3",
   "language": "python",
   "name": "python3"
  },
  "language_info": {
   "codemirror_mode": {
    "name": "ipython",
    "version": 3
   },
   "file_extension": ".py",
   "mimetype": "text/x-python",
   "name": "python",
   "nbconvert_exporter": "python",
   "pygments_lexer": "ipython3",
   "version": "3.12.4"
  }
 },
 "nbformat": 4,
 "nbformat_minor": 2
}
