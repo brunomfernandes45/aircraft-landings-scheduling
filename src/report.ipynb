{
 "cells": [
  {
   "cell_type": "code",
   "execution_count": 1,
   "metadata": {},
   "outputs": [],
   "source": [
    "from ALS.CP import solve_multiple_runways_cp,solve_single_runway_cp\n",
    "from ALS.MIP import solve_multiple_runways_mip\n",
    "from ALS.utils import read_data\n",
    "from ALS.performanceCP import performance_CP\n",
    "from ALS.performanceMIP import performance_MIP\n",
    "from ortools.sat.python import cp_model\n",
    "import pandas as pd "
   ]
  },
  {
   "cell_type": "code",
   "execution_count": 2,
   "metadata": {},
   "outputs": [
    {
     "name": "stdout",
     "output_type": "stream",
     "text": [
      "9.11.4210\n"
     ]
    }
   ],
   "source": [
    "import ortools\n",
    "print(ortools.__version__)\n"
   ]
  },
  {
   "cell_type": "code",
   "execution_count": 3,
   "metadata": {},
   "outputs": [
    {
     "name": "stdout",
     "output_type": "stream",
     "text": [
      "============================================================\n",
      "\t       Reading data from airland8.txt\n",
      "============================================================ \n",
      "\n",
      "-> Number of planes: 50 \n",
      "\n"
     ]
    }
   ],
   "source": [
    "filename = \"data/airland8.txt\"\n",
    "\n",
    "num_planes, planes_data, separation_times = read_data(filename)\n",
    "\n",
    "num_runways = 2"
   ]
  },
  {
   "cell_type": "code",
   "execution_count": 4,
   "metadata": {},
   "outputs": [
    {
     "name": "stdout",
     "output_type": "stream",
     "text": [
      "============================================================\n",
      "\t\t     Creating CP model\n",
      "============================================================ \n",
      "\n",
      "-> Number of decision variables created: 2700\n",
      "-> Number of constraints: 7651\n",
      "\n",
      "============================================================\n",
      "\t\t\tSolving CP\n",
      "============================================================ \n",
      "\n",
      "-> Optimal Cost: 135.0\n",
      "\n",
      "-> Planes that did not land on the target time:\n",
      "  -> Plane 2: 154 | Target Time: 160 | Penalty: 60.0\n",
      "  -> Plane 8: 133 | Target Time: 132 | Penalty: 30.0\n",
      "  -> Plane 16: 341 | Target Time: 338 | Penalty: 30.0\n",
      "  -> Plane 34: 411 | Target Time: 412 | Penalty: 15.0\n",
      "\n",
      "============================================================\n",
      "\t\tPerformance Metrics for CP\n",
      "============================================================ \n",
      "\n",
      "-> Execution time (s): 1.476099\n",
      "-> Solution Status: OPTIMAL\n",
      "-> Memory usage (MB): 160.09375\n",
      "-> Number of Conflicts: 31\n",
      "-> Number of Branches: 16508\n",
      "-> Best objective bound: 135.0\n",
      "\n",
      "============================================================\n"
     ]
    }
   ],
   "source": [
    "decision_strategies_multiple = [\n",
    "    {\n",
    "        \"variables\": \"position\",\n",
    "        \"variable_strategy\": cp_model.CHOOSE_FIRST,        \n",
    "        \"value_strategy\": cp_model.SELECT_MIN_VALUE      \n",
    "    },\n",
    "    {\n",
    "        \"variables\": \"runway\",\n",
    "        \"variable_strategy\": cp_model.CHOOSE_FIRST,      \n",
    "        \"value_strategy\": cp_model.SELECT_MAX_VALUE      \n",
    "    }\n",
    "]\n",
    "\n",
    "\n",
    "solver, mem_before, mem_after = solve_multiple_runways_cp(num_planes, num_runways, planes_data, separation_times)\n",
    "metrics_CP_multiple_runway = performance_CP(solver, planes_data, mem_before, mem_after)"
   ]
  },
  {
   "cell_type": "code",
   "execution_count": 9,
   "metadata": {},
   "outputs": [
    {
     "name": "stdout",
     "output_type": "stream",
     "text": [
      "============================================================\n",
      "\t\t     Creating CP model\n",
      "============================================================ \n",
      "\n",
      "-> Number of decision variables created: 1425\n",
      "-> Number of constraints: 5201\n",
      "\n",
      "============================================================\n",
      "\t\t\tSolving CP\n",
      "============================================================ \n",
      "\n",
      "-> Optimal Cost: 1950.0\n",
      "\n",
      "-> Planes that did not land on the target time:\n",
      "  -> Plane 2: 152 | Target Time: 160 | Penalty: 80.0\n",
      "  -> Plane 5: 100 | Target Time: 106 | Penalty: 180.0\n",
      "  -> Plane 8: 136 | Target Time: 132 | Penalty: 120.0\n",
      "  -> Plane 9: 133 | Target Time: 130 | Penalty: 90.0\n",
      "  -> Plane 11: 125 | Target Time: 126 | Penalty: 30.0\n",
      "  -> Plane 12: 325 | Target Time: 336 | Penalty: 110.0\n",
      "  -> Plane 15: 422 | Target Time: 409 | Penalty: 130.0\n",
      "  -> Plane 16: 341 | Target Time: 338 | Penalty: 30.0\n",
      "  -> Plane 19: 175 | Target Time: 169 | Penalty: 180.0\n",
      "  -> Plane 20: 619 | Target Time: 628 | Penalty: 135.0\n",
      "  -> Plane 24: 392 | Target Time: 398 | Penalty: 90.0\n",
      "  -> Plane 26: 428 | Target Time: 426 | Penalty: 40.0\n",
      "  -> Plane 28: 516 | Target Time: 521 | Penalty: 75.0\n",
      "  -> Plane 30: 688 | Target Time: 674 | Penalty: 210.0\n",
      "  -> Plane 33: 556 | Target Time: 562 | Penalty: 60.0\n",
      "  -> Plane 34: 407 | Target Time: 412 | Penalty: 75.0\n",
      "  -> Plane 40: 740 | Target Time: 732 | Penalty: 120.0\n",
      "  -> Plane 43: 441 | Target Time: 450 | Penalty: 90.0\n",
      "  -> Plane 47: 580 | Target Time: 577 | Penalty: 60.0\n",
      "  -> Plane 48: 471 | Target Time: 468 | Penalty: 45.0\n",
      "\n",
      "============================================================\n",
      "\t\tPerformance Metrics for CP\n",
      "============================================================ \n",
      "\n",
      "-> Execution time (s): 3.185061\n",
      "-> Solution Status: OPTIMAL\n",
      "-> Memory usage (MB): 73.28125\n",
      "-> Number of Conflicts: 50\n",
      "-> Number of Branches: 12874\n",
      "-> Best objective bound: 1950.0\n",
      "\n",
      "============================================================\n"
     ]
    }
   ],
   "source": [
    "decision_strategies_single = [\n",
    "    {\n",
    "        \"variables\": \"position\",\n",
    "        \"variable_strategy\": cp_model.CHOOSE_FIRST,        \n",
    "        \"value_strategy\": cp_model.SELECT_MIN_VALUE      \n",
    "    }\n",
    "]\n",
    "\n",
    "solver, _,mem_before, mem_after = solve_single_runway_cp(num_planes, planes_data, separation_times, decision_strategies_single)\n",
    "metrics_CP_single_runway = performance_CP(solver, planes_data, mem_before, mem_after)"
   ]
  },
  {
   "cell_type": "code",
   "execution_count": 8,
   "metadata": {},
   "outputs": [
    {
     "name": "stdout",
     "output_type": "stream",
     "text": [
      "============================================================\n",
      "\t\t    Creating MIP Solver\n",
      "============================================================ \n",
      "\n",
      "-> Number of decision variables created: 5150\n",
      "-> Number of constraints: 7742\n",
      "\n",
      "============================================================\n",
      "\t\t\tSolving MIP\n",
      "============================================================ \n",
      "\n",
      "-> Optimal Cost: 135.0\n",
      "\n",
      "-> Planes that did not land on the target time:\n",
      "  -> Plane 2: 154.0 | Target Time: 160 | Penalty: 60.0\n",
      "  -> Plane 9: 129.0 | Target Time: 130 | Penalty: 30.0\n",
      "  -> Plane 16: 341.0 | Target Time: 338 | Penalty: 30.0\n",
      "  -> Plane 34: 411.0 | Target Time: 412 | Penalty: 15.0\n",
      "\n",
      "============================================================\n",
      "\t\tPerformance Metrics for MIP\n",
      "============================================================ \n",
      "\n",
      "-> Execution time: 0.21 seconds\n",
      "-> Number of variables in the model: 5150\n",
      "-> Number of constraints in the model: 7742\n",
      "-> Total penalty: 135.0\n",
      "-> Memory usage: 160.09 MB\n",
      "\n",
      "============================================================\n"
     ]
    }
   ],
   "source": [
    "solver, memory_before, memory_after = solve_multiple_runways_mip(num_planes, num_runways, planes_data, separation_times)\n",
    "metrics_MIP_multiple_runway = performance_MIP(solver, mem_before, mem_after)"
   ]
  },
  {
   "cell_type": "code",
   "execution_count": null,
   "metadata": {},
   "outputs": [],
   "source": [
    "selected_variables = [\n",
    "    \"metrics_CP_single_runway\",\n",
    "    \"metrics_CP_multiple_runway\"\n",
    "]\n",
    "\n",
    "# Filtrar as variáveis selecionadas\n",
    "variables = {var: globals()[var] for var in selected_variables}\n",
    "\n",
    "# Criar o DataFrame\n",
    "data = {\n",
    "    \"Model\": list(variables.keys()),\n",
    "    \"Execution Time\": [v[0] for v in variables.values()],\n",
    "    \"Status\": [v[1] for v in variables.values()],\n",
    "    \"Memory Usage\": [v[2] for v in variables.values()],\n",
    "    \"Number of Conflicts\": [v[3] for v in variables.values()],\n",
    "    \"Number of Branches\": [v[4] for v in variables.values()],\n",
    "    \"Best Objective Bound\": [v[5] for v in variables.values()]\n",
    "}\n",
    "\n",
    "df = pd.DataFrame(data)"
   ]
  },
  {
   "cell_type": "code",
   "execution_count": null,
   "metadata": {},
   "outputs": [
    {
     "data": {
      "text/html": [
       "<div>\n",
       "<style scoped>\n",
       "    .dataframe tbody tr th:only-of-type {\n",
       "        vertical-align: middle;\n",
       "    }\n",
       "\n",
       "    .dataframe tbody tr th {\n",
       "        vertical-align: top;\n",
       "    }\n",
       "\n",
       "    .dataframe thead th {\n",
       "        text-align: right;\n",
       "    }\n",
       "</style>\n",
       "<table border=\"1\" class=\"dataframe\">\n",
       "  <thead>\n",
       "    <tr style=\"text-align: right;\">\n",
       "      <th></th>\n",
       "      <th>Model</th>\n",
       "      <th>Execution Time</th>\n",
       "      <th>Status</th>\n",
       "      <th>Memory Usage</th>\n",
       "      <th>Number of Conflicts</th>\n",
       "      <th>Number of Branches</th>\n",
       "      <th>Best Objective Bound</th>\n",
       "    </tr>\n",
       "  </thead>\n",
       "  <tbody>\n",
       "    <tr>\n",
       "      <th>0</th>\n",
       "      <td>metrics_CP_single_runway</td>\n",
       "      <td>2.749058</td>\n",
       "      <td>OPTIMAL</td>\n",
       "      <td>1.828125</td>\n",
       "      <td>0</td>\n",
       "      <td>9234</td>\n",
       "      <td>1950.0</td>\n",
       "    </tr>\n",
       "    <tr>\n",
       "      <th>1</th>\n",
       "      <td>metrics_CP_multiple_runway</td>\n",
       "      <td>1.388082</td>\n",
       "      <td>OPTIMAL</td>\n",
       "      <td>17.078125</td>\n",
       "      <td>31</td>\n",
       "      <td>16508</td>\n",
       "      <td>135.0</td>\n",
       "    </tr>\n",
       "  </tbody>\n",
       "</table>\n",
       "</div>"
      ],
      "text/plain": [
       "                        Model  Execution Time   Status  Memory Usage  \\\n",
       "0    metrics_CP_single_runway        2.749058  OPTIMAL      1.828125   \n",
       "1  metrics_CP_multiple_runway        1.388082  OPTIMAL     17.078125   \n",
       "\n",
       "   Number of Conflicts  Number of Branches  Best Objective Bound  \n",
       "0                    0                9234                1950.0  \n",
       "1                   31               16508                 135.0  "
      ]
     },
     "execution_count": 18,
     "metadata": {},
     "output_type": "execute_result"
    }
   ],
   "source": [
    "df.head()"
   ]
  },
  {
   "cell_type": "code",
   "execution_count": null,
   "metadata": {},
   "outputs": [],
   "source": []
  }
 ],
 "metadata": {
  "kernelspec": {
   "display_name": ".venv",
   "language": "python",
   "name": "python3"
  },
  "language_info": {
   "codemirror_mode": {
    "name": "ipython",
    "version": 3
   },
   "file_extension": ".py",
   "mimetype": "text/x-python",
   "name": "python",
   "nbconvert_exporter": "python",
   "pygments_lexer": "ipython3",
   "version": "3.10.7"
  }
 },
 "nbformat": 4,
 "nbformat_minor": 2
}
