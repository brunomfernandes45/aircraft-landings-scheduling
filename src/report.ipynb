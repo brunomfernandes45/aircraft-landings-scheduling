{
 "cells": [
  {
   "cell_type": "code",
   "execution_count": 1,
   "metadata": {},
   "outputs": [],
   "source": [
    "from ALS.CP import solve_multiple_runways_cp,solve_single_runway_cp\n",
    "from ALS.MIP import solve_multiple_runways_mip, solve_single_runway_mip\n",
    "from ALS.utils import read_data\n",
    "from ALS.performanceCP import performance_CP\n",
    "from ALS.performanceMIP import performance_MIP\n",
    "from ortools.sat.python import cp_model\n",
    "import pandas as pd "
   ]
  },
  {
   "cell_type": "code",
   "execution_count": 2,
   "metadata": {},
   "outputs": [
    {
     "name": "stdout",
     "output_type": "stream",
     "text": [
      "9.11.4210\n"
     ]
    }
   ],
   "source": [
    "import ortools\n",
    "print(ortools.__version__)\n"
   ]
  },
  {
   "cell_type": "code",
   "execution_count": 3,
   "metadata": {},
   "outputs": [
    {
     "name": "stdout",
     "output_type": "stream",
     "text": [
      "============================================================\n",
      "\t       Reading data from airland3.txt\n",
      "============================================================ \n",
      "\n",
      "-> Number of planes: 20 \n",
      "\n"
     ]
    }
   ],
   "source": [
    "filename = \"data/airland3.txt\"\n",
    "\n",
    "num_planes, planes_data, separation_times = read_data(filename)\n",
    "\n",
    "num_runways = 1"
   ]
  },
  {
   "cell_type": "code",
   "execution_count": 4,
   "metadata": {},
   "outputs": [
    {
     "name": "stdout",
     "output_type": "stream",
     "text": [
      "============================================================\n",
      "\t\t     Creating CP model\n",
      "============================================================ \n",
      "\n",
      "-> Number of decision variables created: 480\n",
      "-> Number of constraints: 1261\n",
      "\n",
      "============================================================\n",
      "\t\t\tSolving CP\n",
      "============================================================ \n",
      "\n",
      "-> Optimal Cost: 820.0\n",
      "\n",
      "-> Planes that did not land on the target time:\n",
      "  -> Plane 2: 184 | Target Time: 160 | Penalty: 240.0\n",
      "  -> Plane 5: 100 | Target Time: 106 | Penalty: 180.0\n",
      "  -> Plane 8: 141 | Target Time: 132 | Penalty: 270.0\n",
      "  -> Plane 9: 133 | Target Time: 130 | Penalty: 90.0\n",
      "  -> Plane 11: 125 | Target Time: 126 | Penalty: 30.0\n",
      "  -> Plane 12: 335 | Target Time: 336 | Penalty: 10.0\n",
      "\n",
      "============================================================\n",
      "\t\tPerformance Metrics for CP\n",
      "============================================================ \n",
      "\n",
      "-> Execution time (s): 0.444927\n",
      "-> Solution Status: OPTIMAL\n",
      "-> Memory usage (MB): 14.54296875\n",
      "-> Number of Conflicts: 1306\n",
      "-> Number of Branches: 16284\n",
      "-> Best objective bound: 820.0\n",
      "\n",
      "============================================================\n"
     ]
    }
   ],
   "source": [
    "decision_strategies_multiple = [\n",
    "    {\n",
    "        \"variables\": \"position\",\n",
    "        \"variable_strategy\": cp_model.CHOOSE_FIRST,        \n",
    "        \"value_strategy\": cp_model.SELECT_MIN_VALUE      \n",
    "    },\n",
    "    {\n",
    "        \"variables\": \"runway\",\n",
    "        \"variable_strategy\": cp_model.CHOOSE_FIRST,      \n",
    "        \"value_strategy\": cp_model.SELECT_MAX_VALUE      \n",
    "    }\n",
    "]\n",
    "\n",
    "\n",
    "solver, mem_before, mem_after = solve_multiple_runways_cp(num_planes, num_runways, planes_data, separation_times)\n",
    "metrics_CP_multiple_runway = performance_CP(solver, planes_data, mem_before, mem_after)"
   ]
  },
  {
   "cell_type": "code",
   "execution_count": 5,
   "metadata": {},
   "outputs": [
    {
     "name": "stdout",
     "output_type": "stream",
     "text": [
      "============================================================\n",
      "\t\t     Creating CP model\n",
      "============================================================ \n",
      "\n",
      "-> Number of decision variables created: 270\n",
      "-> Number of constraints: 881\n",
      "\n",
      "============================================================\n",
      "\t\t\tSolving CP\n",
      "============================================================ \n",
      "\n",
      "-> Optimal Cost: 820.0\n",
      "\n",
      "-> Planes that did not land on the target time:\n",
      "  -> Plane 2: 184 | Target Time: 160 | Penalty: 240.0\n",
      "  -> Plane 5: 100 | Target Time: 106 | Penalty: 180.0\n",
      "  -> Plane 8: 141 | Target Time: 132 | Penalty: 270.0\n",
      "  -> Plane 9: 133 | Target Time: 130 | Penalty: 90.0\n",
      "  -> Plane 11: 125 | Target Time: 126 | Penalty: 30.0\n",
      "  -> Plane 16: 339 | Target Time: 338 | Penalty: 10.0\n",
      "\n",
      "============================================================\n",
      "\t\tPerformance Metrics for CP\n",
      "============================================================ \n",
      "\n",
      "-> Execution time (s): 0.46383500000000005\n",
      "-> Solution Status: OPTIMAL\n",
      "-> Memory usage (MB): 1.4921875\n",
      "-> Number of Conflicts: 749\n",
      "-> Number of Branches: 18400\n",
      "-> Best objective bound: 820.0\n",
      "\n",
      "============================================================\n"
     ]
    }
   ],
   "source": [
    "decision_strategies_single = [\n",
    "    {\n",
    "        \"variables\": \"position\",\n",
    "        \"variable_strategy\": cp_model.CHOOSE_FIRST,        \n",
    "        \"value_strategy\": cp_model.SELECT_MIN_VALUE      \n",
    "    }\n",
    "]\n",
    "\n",
    "solver, mem_before, mem_after = solve_single_runway_cp(num_planes, planes_data, separation_times, decision_strategies_single)\n",
    "metrics_CP_single_runway = performance_CP(solver, planes_data, mem_before, mem_after)"
   ]
  },
  {
   "cell_type": "code",
   "execution_count": 6,
   "metadata": {},
   "outputs": [
    {
     "name": "stdout",
     "output_type": "stream",
     "text": [
      "============================================================\n",
      "\t\t    Creating MIP Solver\n",
      "============================================================ \n",
      "\n",
      "-> Number of decision variables created: 840\n",
      "-> Number of constraints: 1110\n",
      "\n",
      "============================================================\n",
      "\t\t\tSolving MIP\n",
      "============================================================ \n",
      "\n",
      "-> Optimal Cost: 820.0\n",
      "\n",
      "-> Planes that did not land on the target time:\n",
      "  -> Plane 2: LandingTime_2 | Target Time: 160 | Penalty: 240.0\n",
      "  -> Plane 5: LandingTime_5 | Target Time: 106 | Penalty: 150.0\n",
      "  -> Plane 7: LandingTime_7 | Target Time: 108 | Penalty: 30.0\n",
      "  -> Plane 8: LandingTime_8 | Target Time: 132 | Penalty: 30.0\n",
      "  -> Plane 9: LandingTime_9 | Target Time: 130 | Penalty: 330.0\n",
      "  -> Plane 11: LandingTime_11 | Target Time: 126 | Penalty: 30.0\n",
      "  -> Plane 12: LandingTime_12 | Target Time: 336 | Penalty: 10.0\n",
      "\n",
      "============================================================\n",
      "\t\tPerformance Metrics for MIP\n",
      "============================================================ \n",
      "\n",
      "-> Execution time: 0.22 seconds\n",
      "-> Number of variables in the model: 840\n",
      "-> Number of constraints in the model: 1110\n",
      "-> Total penalty: 820.0\n",
      "-> Memory usage: 1.49 MB\n",
      "\n",
      "============================================================\n"
     ]
    }
   ],
   "source": [
    "solver, memory_before, memory_after = solve_multiple_runways_mip(num_planes, num_runways, planes_data, separation_times)\n",
    "metrics_MIP_multiple_runway = performance_MIP(solver, mem_before, mem_after)"
   ]
  },
  {
   "cell_type": "code",
   "execution_count": 7,
   "metadata": {},
   "outputs": [],
   "source": [
    "selected_variables = [\n",
    "    \"metrics_CP_single_runway\",\n",
    "    \"metrics_CP_multiple_runway\"\n",
    "]\n",
    "\n",
    "# Filtrar as variáveis selecionadas\n",
    "variables = {var: globals()[var] for var in selected_variables}\n",
    "\n",
    "# Criar o DataFrame\n",
    "data = {\n",
    "    \"Model\": list(variables.keys()),\n",
    "    \"Execution Time\": [v[0] for v in variables.values()],\n",
    "    \"Status\": [v[1] for v in variables.values()],\n",
    "    \"Memory Usage\": [v[2] for v in variables.values()],\n",
    "    \"Number of Conflicts\": [v[3] for v in variables.values()],\n",
    "    \"Number of Branches\": [v[4] for v in variables.values()],\n",
    "    \"Best Objective Bound\": [v[5] for v in variables.values()]\n",
    "}\n",
    "\n",
    "df = pd.DataFrame(data)"
   ]
  },
  {
   "cell_type": "code",
   "execution_count": 8,
   "metadata": {},
   "outputs": [
    {
     "data": {
      "text/html": [
       "<div>\n",
       "<style scoped>\n",
       "    .dataframe tbody tr th:only-of-type {\n",
       "        vertical-align: middle;\n",
       "    }\n",
       "\n",
       "    .dataframe tbody tr th {\n",
       "        vertical-align: top;\n",
       "    }\n",
       "\n",
       "    .dataframe thead th {\n",
       "        text-align: right;\n",
       "    }\n",
       "</style>\n",
       "<table border=\"1\" class=\"dataframe\">\n",
       "  <thead>\n",
       "    <tr style=\"text-align: right;\">\n",
       "      <th></th>\n",
       "      <th>Model</th>\n",
       "      <th>Execution Time</th>\n",
       "      <th>Status</th>\n",
       "      <th>Memory Usage</th>\n",
       "      <th>Number of Conflicts</th>\n",
       "      <th>Number of Branches</th>\n",
       "      <th>Best Objective Bound</th>\n",
       "    </tr>\n",
       "  </thead>\n",
       "  <tbody>\n",
       "    <tr>\n",
       "      <th>0</th>\n",
       "      <td>metrics_CP_single_runway</td>\n",
       "      <td>0.463835</td>\n",
       "      <td>OPTIMAL</td>\n",
       "      <td>1.492188</td>\n",
       "      <td>749</td>\n",
       "      <td>18400</td>\n",
       "      <td>820.0</td>\n",
       "    </tr>\n",
       "    <tr>\n",
       "      <th>1</th>\n",
       "      <td>metrics_CP_multiple_runway</td>\n",
       "      <td>0.444927</td>\n",
       "      <td>OPTIMAL</td>\n",
       "      <td>14.542969</td>\n",
       "      <td>1306</td>\n",
       "      <td>16284</td>\n",
       "      <td>820.0</td>\n",
       "    </tr>\n",
       "  </tbody>\n",
       "</table>\n",
       "</div>"
      ],
      "text/plain": [
       "                        Model  Execution Time   Status  Memory Usage  \\\n",
       "0    metrics_CP_single_runway        0.463835  OPTIMAL      1.492188   \n",
       "1  metrics_CP_multiple_runway        0.444927  OPTIMAL     14.542969   \n",
       "\n",
       "   Number of Conflicts  Number of Branches  Best Objective Bound  \n",
       "0                  749               18400                 820.0  \n",
       "1                 1306               16284                 820.0  "
      ]
     },
     "execution_count": 8,
     "metadata": {},
     "output_type": "execute_result"
    }
   ],
   "source": [
    "df.head()"
   ]
  },
  {
   "cell_type": "code",
   "execution_count": 9,
   "metadata": {},
   "outputs": [
    {
     "name": "stdout",
     "output_type": "stream",
     "text": [
      "============================================================\n",
      "\t       Reading data from airland1.txt\n",
      "============================================================ \n",
      "\n",
      "-> Number of planes: 10 \n",
      "\n",
      "============================================================\n",
      "\t\t    Creating MIP Solver\n",
      "============================================================ \n",
      "\n",
      "-> Number of decision variables created: 120\n",
      "-> Number of constraints: 205\n",
      "\n",
      "============================================================\n",
      "\t\t\tSolving MIP\n",
      "============================================================ \n",
      "\n",
      "-> Optimal Cost: 700.0\n",
      "\n",
      "-> Planes that did not land on the target time:\n",
      "  -> Plane 0: LandingTime_0 | Target Time: 155 | Penalty: 100.0\n",
      "  -> Plane 4: LandingTime_4 | Target Time: 123 | Penalty: 150.0\n",
      "  -> Plane 5: LandingTime_5 | Target Time: 135 | Penalty: 30.0\n",
      "  -> Plane 6: LandingTime_6 | Target Time: 138 | Penalty: 360.0\n",
      "  -> Plane 7: LandingTime_7 | Target Time: 140 | Penalty: 60.0\n",
      "\n",
      "============================================================\n",
      "\t\tPerformance Metrics for MIP\n",
      "============================================================ \n",
      "\n",
      "-> Execution time: 0.11 seconds\n",
      "-> Number of variables in the model: 120\n",
      "-> Number of constraints in the model: 205\n",
      "-> Total penalty: 700.0\n",
      "-> Memory usage: 0.03 MB\n",
      "\n",
      "============================================================\n"
     ]
    }
   ],
   "source": [
    "filename = \"data/airland1.txt\"\n",
    "\n",
    "num_planes, planes_data, separation_times = read_data(filename)\n",
    "\n",
    "solver, memory_before, memory_after = solve_single_runway_mip(num_planes, planes_data, separation_times)\n",
    "metrics_MIP_single_runway = performance_MIP(solver, memory_before, memory_after)"
   ]
  },
  {
   "cell_type": "code",
   "execution_count": null,
   "metadata": {},
   "outputs": [],
   "source": []
  }
 ],
 "metadata": {
  "kernelspec": {
   "display_name": ".venv",
   "language": "python",
   "name": "python3"
  },
  "language_info": {
   "codemirror_mode": {
    "name": "ipython",
    "version": 3
   },
   "file_extension": ".py",
   "mimetype": "text/x-python",
   "name": "python",
   "nbconvert_exporter": "python",
   "pygments_lexer": "ipython3",
   "version": "3.10.7"
  }
 },
 "nbformat": 4,
 "nbformat_minor": 2
}
