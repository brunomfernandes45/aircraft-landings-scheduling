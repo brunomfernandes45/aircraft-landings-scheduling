{
 "cells": [
  {
   "cell_type": "markdown",
   "metadata": {},
   "source": [
    "# One Runway"
   ]
  },
  {
   "cell_type": "markdown",
   "metadata": {},
   "source": [
    "<h4 style=\"color:#0033a0\">Parameters</h4>\n",
    "\\begin{align}\n",
    "p & \\quad \\text{Total number of aircraft (}\\{1,\\dots,p\\}\\text{)} \\\\\n",
    "E_i & \\quad \\text{Earliest (minimum) landing time allowed for aircraft } i \\\\\n",
    "T_i & \\quad \\text{Target landing time for aircraft } i \\\\\n",
    "L_i & \\quad \\text{Latest (maximum) landing time allowed for aircraft } i \\\\\n",
    "e_i & \\quad \\text{Penalty cost per unit of time if } t_i < T_i \\\\\n",
    "l_i & \\quad \\text{Penalty cost per unit of time if } t_i > T_i \\\\\n",
    "S_{i,j} & \\quad \\text{Separation time required between the landings of } i \\text{ and } j\n",
    "         \\text{ when } i \\text{ lands before } j\n",
    "\\end{align}\n",
    "\n",
    "<h4 style=\"color:#0033a0\">Decision Variables</h4>\n",
    "\\begin{align*}\n",
    "t_i & \\quad \\text{(Integer or real) time at which aircraft } i \\text{ lands} \\\\\n",
    "E'_i & \\quad \\text{Earliness (advance) variable for aircraft } i \\quad (E'_i \\ge 0) \\\\\n",
    "L'_i & \\quad \\text{Tardiness (delay) variable for aircraft } i \\quad (L'_i \\ge 0) \\\\\n",
    "x_{i,j} & =\n",
    "\\begin{cases}\n",
    "  1, & \\text{if aircraft } i \\text{ lands before } j \\\\\n",
    "  0, & \\text{otherwise}\n",
    "\\end{cases}\n",
    "\\end{align*}\n",
    "\n",
    "Here, \\(E'_i\\) and \\(L'_i\\) are auxiliary variables used to calculate earliness and tardiness penalties relative to \\(T_i\\). The binary variable \\(x_{i,j}\\) indicates the landing order between \\(i\\) and \\(j\\).  \n",
    "\n",
    "\n"
   ]
  },
  {
   "cell_type": "markdown",
   "metadata": {},
   "source": [
    "<h4 style=\"color:#0033a0\">Objective Function and Constraints</h4>\n",
    "\\begin{align}\n",
    "\\min \\quad \n",
    "& \\sum_{i=1}^{p} \\Bigl( e_i \\cdot E'_i + l_i \\cdot L'_i \\Bigr) \n",
    "&& (1) \\\\[6pt]\n",
    "\\text{subject to:} \\quad \n",
    "& t_i + E'_i \\;=\\; T_i && \\forall i, \\text{ when } t_i \\le T_i \n",
    "&& (2) \\\\\n",
    "& t_i - L'_i \\;=\\; T_i && \\forall i, \\text{ when } t_i \\ge T_i \n",
    "&& (3) \\\\\n",
    "& E_i \\;\\le\\; t_i \\;\\le\\; L_i && \\forall i \n",
    "&& (4) \\\\\n",
    "& t_j \\;\\ge\\; t_i + S_{i,j} \\;-\\; M\\,(1 - x_{i,j}) \n",
    "   && \\forall i \\neq j \n",
    "&& (5) \\\\\n",
    "& t_i \\;\\ge\\; t_j + S_{j,i} \\;-\\; M\\,x_{i,j}\n",
    "   && \\forall i \\neq j \n",
    "&& (6) \\\\\n",
    "& x_{i,j} + x_{j,i} = 1 && \\forall i \\neq j \n",
    "&& (7) \\\\\n",
    "& x_{i,i} = 0 && \\forall i \n",
    "&& (8) \\\\\n",
    "& x_{i,j} \\in \\{0,1\\},\\quad E'_i,\\,L'_i \\ge 0,\\quad t_i \\ge 0 \n",
    "&& (9)\n",
    "\\end{align}"
   ]
  },
  {
   "cell_type": "markdown",
   "metadata": {},
   "source": [
    "# Multiple Runways"
   ]
  },
  {
   "cell_type": "markdown",
   "metadata": {},
   "source": [
    "<h4 style=\"color:#0033a0\">Parameters</h4>\n",
    "\\begin{align}\n",
    "p & \\quad \\text{Total number of aircraft (}\\{1,\\dots,p\\}\\text{)} \\\\\n",
    "\\mathcal{R} & \\quad \\text{Set of available runways (}\\{1,\\dots,R\\}\\text{)} \\\\\n",
    "E_i, \\; T_i, \\; L_i & \\quad \\text{(same meaning as in the single-runway formulation)} \\\\\n",
    "e_i, \\; l_i & \\quad \\text{(earliness and lateness costs, as before)} \\\\\n",
    "S_{i,j} & \\quad \\text{Separation time required between } i \\text{ and } j\n",
    "         \\text{ if they use the same runway}\n",
    "\\end{align}\n",
    "\n",
    "<h4 style=\"color:#0033a0\">Decision Variables</h4>\n",
    "\\begin{align*}\n",
    "t_i & \\quad \\text{Landing time of aircraft } i \\\\\n",
    "r_i & \\quad \\text{Runway assigned to aircraft } i \\quad (r_i \\in \\mathcal{R}) \\\\\n",
    "E'_i,\\, L'_i & \\quad \\text{Earliness and tardiness variables (same as before)} \\\\\n",
    "x_{i,j} & =\n",
    "\\begin{cases}\n",
    "  1, & \\text{if aircraft } i \\text{ lands before } j \\text{ on the same runway} \\\\\n",
    "  0, & \\text{otherwise or if they are on different runways}\n",
    "\\end{cases}\n",
    "\\end{align*}\n",
    "\n",
    "\n"
   ]
  },
  {
   "cell_type": "markdown",
   "metadata": {},
   "source": [
    "<h4 style=\"color:#0033a0\">Objective Function and Constraints</h4>\n",
    "\\begin{align}\n",
    "\\min \\quad \n",
    "& \\sum_{i=1}^{p} \\Bigl( e_i \\cdot E'_i + l_i \\cdot L'_i \\Bigr)\n",
    "&& (1) \\\\[6pt]\n",
    "\\text{subject to:} \\quad\n",
    "& t_i + E'_i \\;=\\; T_i && \\forall i, \\text{ when } t_i \\le T_i \n",
    "&& (2) \\\\\n",
    "& t_i - L'_i \\;=\\; T_i && \\forall i, \\text{ when } t_i \\ge T_i \n",
    "&& (3) \\\\\n",
    "& E_i \\;\\le\\; t_i \\;\\le\\; L_i && \\forall i \n",
    "&& (4) \\\\\n",
    "& x_{i,j} + x_{j,i} \\;\\le\\; 1 && \\forall i \\neq j \n",
    "&& (5) \\\\\n",
    "& \\bigl(r_i = r_j\\bigr) \n",
    "   \\;\\Rightarrow\\; \n",
    "   \\Bigl[\\, t_j \\;\\ge\\; t_i + S_{i,j} - M\\,(1-x_{i,j}) \\Bigr] \n",
    "&& \\forall i \\neq j \n",
    "&& (6) \\\\\n",
    "& \\bigl(r_i = r_j\\bigr) \n",
    "   \\;\\Rightarrow\\; \n",
    "   \\Bigl[\\, t_i \\;\\ge\\; t_j + S_{j,i} - M\\,x_{i,j} \\Bigr] \n",
    "&& \\forall i \\neq j \n",
    "&& (7) \\\\\n",
    "& r_i \\in \\mathcal{R} && \\forall i \n",
    "&& (8) \\\\\n",
    "& x_{i,j} \\in \\{0,1\\},\\quad E'_i,\\,L'_i \\ge 0,\\quad t_i \\ge 0 \n",
    "&& (9)\n",
    "\\end{align}"
   ]
  },
  {
   "cell_type": "markdown",
   "metadata": {},
   "source": []
  }
 ],
 "metadata": {
  "language_info": {
   "name": "python"
  }
 },
 "nbformat": 4,
 "nbformat_minor": 2
}
