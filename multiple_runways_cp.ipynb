{
 "cells": [
  {
   "cell_type": "markdown",
   "metadata": {},
   "source": [
    "## **Multiple-Runway Constraint Programming Model**\n",
    "\n",
    "<h4 style=\"color:#0033a0\">Parameters</h4>"
   ]
  },
  {
   "cell_type": "code",
   "execution_count": null,
   "metadata": {},
   "outputs": [],
   "source": [
    "def read_data_from_file(filename):\n",
    "    \"\"\"\n",
    "    Reads data from a file with the specified format for an air traffic scheduling problem.\n",
    "\n",
    "    Args:\n",
    "        filename (str): The path to the data file.\n",
    "\n",
    "    Returns:\n",
    "        tuple: A tuple containing the parsed data:\n",
    "            - num_planes (int): The number of planes.\n",
    "            - freeze_time (int): The freeze time.\n",
    "            - planes_data (list): A list of dictionaries, where each dictionary contains\n",
    "              the data for a plane.\n",
    "            - separation_times (list of lists): A 2D list of separation times.\n",
    "    \"\"\"\n",
    "    try:\n",
    "        with open(filename, \"r\") as f:\n",
    "            # Read the first line: number of planes and freeze time\n",
    "            first_line = f.readline().strip().split()\n",
    "            num_planes = int(first_line[0])\n",
    "            freeze_time = int(first_line[1])\n",
    "\n",
    "            planes_data = []\n",
    "            separation_times = []\n",
    "            \n",
    "            for _ in range(num_planes):\n",
    "                line = f.readline().strip().split()\n",
    "                appearance_time = int(line[0])\n",
    "                earliest_landing_time = int(line[1])\n",
    "                target_landing_time = int(line[2])\n",
    "                latest_landing_time = int(line[3])\n",
    "                penalty_early = float(line[4])\n",
    "                penalty_late = float(line[5])\n",
    "                planes_data.append(\n",
    "                    {\n",
    "                        \"appearance_time\": appearance_time,\n",
    "                        \"earliest_landing_time\": earliest_landing_time,\n",
    "                        \"target_landing_time\": target_landing_time,\n",
    "                        \"latest_landing_time\": latest_landing_time,\n",
    "                        \"penalty_early\": penalty_early,\n",
    "                        \"penalty_late\": penalty_late,\n",
    "                    }\n",
    "                )\n",
    "                \n",
    "                separation_row = []\n",
    "                while len(separation_row) < num_planes:\n",
    "                    line = f.readline().strip().split()\n",
    "                    separation_row.extend([int(x) for x in line])\n",
    "\n",
    "                separation_times.append(separation_row)\n",
    "\n",
    "        return num_planes, freeze_time, planes_data, separation_times\n",
    "\n",
    "    except FileNotFoundError:\n",
    "        print(f\"Error: File '{filename}' not found.\")\n",
    "        return None, None, None, None\n",
    "    except ValueError:\n",
    "        print(f\"Error: Error reading data in file '{filename}'.\")\n",
    "        return None, None, None, None"
   ]
  }
 ],
 "metadata": {
  "kernelspec": {
   "display_name": "Python 3",
   "language": "python",
   "name": "python3"
  },
  "language_info": {
   "codemirror_mode": {
    "name": "ipython",
    "version": 3
   },
   "file_extension": ".py",
   "mimetype": "text/x-python",
   "name": "python",
   "nbconvert_exporter": "python",
   "pygments_lexer": "ipython3",
   "version": "3.12.4"
  }
 },
 "nbformat": 4,
 "nbformat_minor": 2
}
